{
 "cells": [
  {
   "cell_type": "code",
   "execution_count": 1,
   "metadata": {},
   "outputs": [],
   "source": [
    "# import the modules\n",
    "\n",
    "\n",
    "import pandas as pd\n",
    "import numpy as np\n",
    "import matplotlib.pyplot as plt\n",
    "import seaborn as sns\n",
    "from sklearn.ensemble import RandomForestClassifier\n",
    "from sklearn.model_selection import GridSearchCV, RandomizedSearchCV\n",
    "from sklearn.metrics import roc_auc_score ,mean_squared_error,accuracy_score\n",
    "import warnings\n",
    "warnings.filterwarnings('ignore')\n",
    "from sklearn.feature_selection import RFE\n",
    "from sklearn.model_selection import train_test_split\n",
    "from sklearn import tree\n",
    "from sklearn import metrics\n",
    "from IPython.display import Image\n",
    "import pydotplus\n",
    "from sklearn.tree import DecisionTreeClassifier\n",
    "from sklearn.linear_model import LinearRegression"
   ]
  },
  {
   "cell_type": "markdown",
   "metadata": {},
   "source": [
    "### Load the dataset\n",
    "\n",
    "- Load the train data and using all your knowledge try to explore the different statistical properties of the dataset."
   ]
  },
  {
   "cell_type": "code",
   "execution_count": 4,
   "metadata": {},
   "outputs": [
    {
     "name": "stdout",
     "output_type": "stream",
     "text": [
      "<class 'pandas.core.frame.DataFrame'>\n",
      "RangeIndex: 7662 entries, 0 to 7661\n",
      "Data columns (total 16 columns):\n",
      " #   Column             Non-Null Count  Dtype  \n",
      "---  ------             --------------  -----  \n",
      " 0   Id                 7662 non-null   int64  \n",
      " 1   customer.id        7662 non-null   object \n",
      " 2   credit.policy      7662 non-null   object \n",
      " 3   purpose            7662 non-null   object \n",
      " 4   int.rate           7662 non-null   object \n",
      " 5   installment        7662 non-null   float64\n",
      " 6   log.annual.inc     7662 non-null   float64\n",
      " 7   dti                7662 non-null   float64\n",
      " 8   fico               7662 non-null   int64  \n",
      " 9   days.with.cr.line  7662 non-null   float64\n",
      " 10  revol.bal          7662 non-null   int64  \n",
      " 11  revol.util         7662 non-null   float64\n",
      " 12  pub.rec            7662 non-null   int64  \n",
      " 13  inq.last.6mths     7662 non-null   object \n",
      " 14  delinq.2yrs        7662 non-null   object \n",
      " 15  paid.back.loan     7662 non-null   object \n",
      "dtypes: float64(5), int64(4), object(7)\n",
      "memory usage: 957.9+ KB\n"
     ]
    }
   ],
   "source": [
    "# Code starts here\n",
    "data_train=pd.read_csv('/users/neha/Desktop/Pragra/Grey_Atom_Tasks/Sprint_8/Loan_Defaulter/train.csv')\n",
    "\n",
    "data_train.info()\n",
    "\n",
    "# Code ends here"
   ]
  },
  {
   "cell_type": "code",
   "execution_count": null,
   "metadata": {},
   "outputs": [],
   "source": [
    "data_test=pd.read_csv('/users/neha/Desktop/Pragra/Grey_Atom_Tasks/Sprint_8/file/test.csv')"
   ]
  },
  {
   "cell_type": "code",
   "execution_count": null,
   "metadata": {},
   "outputs": [],
   "source": [
    "data_train.head()"
   ]
  },
  {
   "cell_type": "code",
   "execution_count": null,
   "metadata": {},
   "outputs": [],
   "source": [
    "data_train.describe()"
   ]
  },
  {
   "cell_type": "code",
   "execution_count": null,
   "metadata": {},
   "outputs": [],
   "source": [
    "data_train['inq.last.6mths'].value_counts()"
   ]
  },
  {
   "cell_type": "code",
   "execution_count": null,
   "metadata": {},
   "outputs": [],
   "source": [
    "data_train['purpose'].value_counts()"
   ]
  },
  {
   "cell_type": "code",
   "execution_count": null,
   "metadata": {},
   "outputs": [],
   "source": [
    "data_train.loc[data_train['paid.back.loan']=='Yes', 'paid.back.loan'] = 1\n",
    "data_train.loc[data_train['paid.back.loan']=='No', 'paid.back.loan'] = 0"
   ]
  },
  {
   "cell_type": "code",
   "execution_count": null,
   "metadata": {},
   "outputs": [],
   "source": [
    "data_train['paid.back.loan'].value_counts()"
   ]
  },
  {
   "cell_type": "markdown",
   "metadata": {},
   "source": [
    "### Visualize the data\n",
    "\n",
    "- Check for the categorical & continuous features. \n",
    "- Check out the best plots for plotting between categorical target and continuous features and try making some inferences from these plots.\n",
    "- Clean the data, apply some data preprocessing and engineering techniques."
   ]
  },
  {
   "cell_type": "code",
   "execution_count": null,
   "metadata": {},
   "outputs": [],
   "source": [
    "# Code starts here\n",
    "\n",
    "# fig = plt.figure(figsize=(25,15))\n",
    "# cols = 5\n",
    "# row = np.ceil(float(data_train.shape[1])/cols)\n",
    "# for i , column in enumerate(data_train.columns):\n",
    "#     ax = fig.add_subplot(row,cols,i+1)\n",
    "#     ax.set_title(column)\n",
    "#     if data_train.dtypes[column] == np.object:\n",
    "#         data_train[column].value_counts().plot(kind = 'bar',axes=ax)\n",
    "#     else:\n",
    "#         data_train[column].hist(axes=ax)\n",
    "#         plt.xticks(rotation = 'vertical')\n",
    "        \n",
    "# plt.subplots_adjust(hspace=.7,wspace=.2)\n",
    "\n",
    "# Code ends here."
   ]
  },
  {
   "cell_type": "code",
   "execution_count": null,
   "metadata": {},
   "outputs": [],
   "source": [
    "data_train.drop(['Id','customer.id'],1,inplace= True)"
   ]
  },
  {
   "cell_type": "code",
   "execution_count": null,
   "metadata": {},
   "outputs": [],
   "source": [
    "categorical_columns = [c for c in data_train.columns \n",
    "                       if data_train[c].dtype.name == 'object']\n",
    "\n",
    "for column in categorical_columns:\n",
    "    data_train[column]=data_train[column].astype('category').cat.codes\n",
    "    \n",
    "print(data_train.info())"
   ]
  },
  {
   "cell_type": "code",
   "execution_count": null,
   "metadata": {},
   "outputs": [],
   "source": [
    "X=data_train.drop(['paid.back.loan'], axis=1)\n",
    "y=data_train['paid.back.loan'].copy()"
   ]
  },
  {
   "cell_type": "code",
   "execution_count": null,
   "metadata": {},
   "outputs": [],
   "source": [
    "X_train, X_test, y_train, y_test = train_test_split(X, y, test_size=0.2, random_state=0)"
   ]
  },
  {
   "cell_type": "code",
   "execution_count": null,
   "metadata": {},
   "outputs": [],
   "source": []
  },
  {
   "cell_type": "markdown",
   "metadata": {},
   "source": [
    "### Model building\n",
    "\n",
    "- Separate the features and target.\n",
    "- Now let's come to the actual task, using Decision Tree, predict the `paid.back.loan`. Use different techniques you have learned to imporove the performance of the model.\n",
    "- Try improving upon the `accuracy_score` ([Accuracy Score](https://scikit-learn.org/stable/modules/generated/sklearn.metrics.accuracy_score.html))"
   ]
  },
  {
   "cell_type": "code",
   "execution_count": null,
   "metadata": {},
   "outputs": [],
   "source": [
    "# Code Starts here\n",
    "tree = DecisionTreeClassifier(max_depth=3, random_state=17)\n",
    "tree.fit(X_train, y_train)\n",
    "tree_predictions = tree.predict(X_test) \n",
    "print(\"Decision tree accuracy: \",accuracy_score(y_test,tree_predictions))\n",
    "# Code ends here"
   ]
  },
  {
   "cell_type": "code",
   "execution_count": null,
   "metadata": {},
   "outputs": [],
   "source": [
    "tree_params = {'max_depth': range(2, 11)}\n",
    "locally_best_tree = GridSearchCV(DecisionTreeClassifier(random_state=17),tree_params, cv=5)                  \n",
    "locally_best_tree.fit(X_train, y_train)"
   ]
  },
  {
   "cell_type": "code",
   "execution_count": null,
   "metadata": {},
   "outputs": [],
   "source": [
    "print(\"Best params:\", locally_best_tree.best_params_)\n",
    "print(\"Best cross validaton score\", locally_best_tree.best_score_)"
   ]
  },
  {
   "cell_type": "code",
   "execution_count": null,
   "metadata": {},
   "outputs": [],
   "source": [
    "tuned_tree = DecisionTreeClassifier(max_depth=2, random_state=17)\n",
    "tuned_tree.fit(X_train, y_train)\n",
    "tuned_tree_predictions = tuned_tree.predict(X_test)\n",
    "print(\"Decision tree Accuracy after tuning: \",accuracy_score(y_test, tuned_tree_predictions))"
   ]
  },
  {
   "cell_type": "markdown",
   "metadata": {},
   "source": [
    "### Prediction on the test data and creating the sample submission file.\n",
    "\n",
    "- Load the test data and store the `Id` column in a separate variable.\n",
    "- Perform the same operations on the test data that you have performed on the train data.\n",
    "- Create the submission file as a `csv` file consisting of the `Id` column from the test data and your prediction as the second column."
   ]
  },
  {
   "cell_type": "code",
   "execution_count": null,
   "metadata": {},
   "outputs": [],
   "source": [
    "# Code Starts here\n",
    "\n",
    "data_test.drop(['customer.id'],1,inplace= True)\n",
    "\n",
    "# Code ends here"
   ]
  },
  {
   "cell_type": "code",
   "execution_count": null,
   "metadata": {},
   "outputs": [],
   "source": []
  },
  {
   "cell_type": "code",
   "execution_count": null,
   "metadata": {},
   "outputs": [],
   "source": [
    "categorical_columns = [c for c in data_test.columns \n",
    "                       if data_test[c].dtype.name == 'object']\n",
    "\n",
    "for column in categorical_columns:\n",
    "    data_test[column]=data_test[column].astype('category').cat.codes\n",
    "    \n",
    "print(data_test.info())"
   ]
  },
  {
   "cell_type": "code",
   "execution_count": null,
   "metadata": {},
   "outputs": [],
   "source": [
    "\n",
    "# Storing the id from the test file\n",
    "id_ = data_test['Id']\n",
    "\n",
    "# Dropping the same columns from the test data\n",
    "data_test.drop(['Id'],1,inplace=True)\n",
    "\n",
    "# Applying rfe on test data\n",
    "\n",
    "y_pred_test= tuned_tree.predict(data_test)\n",
    "\n",
    "# Predict on the test data\n",
    "\n",
    "# Create a sample submission file\n",
    "final_submission = pd.DataFrame({'Id':id_,'paid.back.loan':y_pred_test})\n",
    "\n",
    "final_submission.loc[final_submission['paid.back.loan']==1, 'paid.back.loan'] = 'Yes'\n",
    "final_submission.loc[final_submission['paid.back.loan']==0, 'paid.back.loan'] = 'No'\n",
    "\n",
    "# Convert the sample submission file into a csv file\n",
    "final_submission.to_csv('final_submission.csv',index=False)"
   ]
  },
  {
   "cell_type": "code",
   "execution_count": null,
   "metadata": {},
   "outputs": [],
   "source": []
  }
 ],
 "metadata": {
  "kernelspec": {
   "display_name": "Python 3",
   "language": "python",
   "name": "python3"
  },
  "language_info": {
   "codemirror_mode": {
    "name": "ipython",
    "version": 3
   },
   "file_extension": ".py",
   "mimetype": "text/x-python",
   "name": "python",
   "nbconvert_exporter": "python",
   "pygments_lexer": "ipython3",
   "version": "3.8.3"
  }
 },
 "nbformat": 4,
 "nbformat_minor": 2
}
